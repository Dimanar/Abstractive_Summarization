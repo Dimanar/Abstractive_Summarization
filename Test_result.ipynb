{
 "cells": [
  {
   "cell_type": "code",
   "execution_count": 1,
   "metadata": {},
   "outputs": [],
   "source": [
    "import warnings\n",
    "warnings.filterwarnings('ignore')\n",
    "\n",
    "import torch\n",
    "import pytorch_lightning as pl\n",
    "from transformers import T5TokenizerFast \n",
    "from summarization.transfer import SummaryModule, Summary\n",
    "import re \n",
    "import numpy as np\n",
    "import pandas as pd"
   ]
  },
  {
   "cell_type": "code",
   "execution_count": 2,
   "metadata": {},
   "outputs": [],
   "source": [
    "np.random.seed(47)"
   ]
  },
  {
   "cell_type": "code",
   "execution_count": 3,
   "metadata": {},
   "outputs": [],
   "source": [
    "model_save_name = 'summary_t5transformer_5_epochs_pretrained.pt'\n",
    "model_pretrained = 't5-base'\n",
    "path = f\"models/{model_save_name}\""
   ]
  },
  {
   "cell_type": "code",
   "execution_count": 4,
   "metadata": {},
   "outputs": [],
   "source": [
    "model = SummaryModule(model_pretrained)\n",
    "model.load_state_dict(torch.load(path))\n",
    "tokenizer = T5TokenizerFast.from_pretrained(model_pretrained)"
   ]
  },
  {
   "cell_type": "code",
   "execution_count": 5,
   "metadata": {},
   "outputs": [],
   "source": [
    "from sklearn.model_selection import train_test_split"
   ]
  },
  {
   "cell_type": "code",
   "execution_count": 6,
   "metadata": {},
   "outputs": [
    {
     "name": "stdout",
     "output_type": "stream",
     "text": [
      "(215365, 3)\n"
     ]
    }
   ],
   "source": [
    "data = pd.read_csv('data/wikihowAll.csv')\n",
    "print(data.shape)\n",
    "data.dropna(inplace=True)"
   ]
  },
  {
   "cell_type": "code",
   "execution_count": 7,
   "metadata": {},
   "outputs": [],
   "source": [
    "df_train, df_test = train_test_split(data, test_size=0.1, random_state=47)"
   ]
  },
  {
   "cell_type": "code",
   "execution_count": 8,
   "metadata": {},
   "outputs": [],
   "source": [
    "def clean(text):\n",
    "    return re.sub('[,\\n]', '', text)"
   ]
  },
  {
   "cell_type": "code",
   "execution_count": 9,
   "metadata": {},
   "outputs": [],
   "source": [
    "# 83352\n",
    "# 156552\n",
    "# 83568"
   ]
  },
  {
   "cell_type": "code",
   "execution_count": 10,
   "metadata": {},
   "outputs": [
    {
     "data": {
      "text/plain": [
       "(21430, 3)"
      ]
     },
     "execution_count": 10,
     "metadata": {},
     "output_type": "execute_result"
    }
   ],
   "source": [
    "df_test.shape"
   ]
  },
  {
   "cell_type": "code",
   "execution_count": 11,
   "metadata": {},
   "outputs": [],
   "source": [
    "df_test['headline'] = df_test['headline'].apply(clean)\n",
    "df_test['text'] = df_test['text'].apply(clean)"
   ]
  },
  {
   "cell_type": "code",
   "execution_count": 12,
   "metadata": {},
   "outputs": [],
   "source": [
    "summarize = Summary(model, tokenizer)"
   ]
  },
  {
   "cell_type": "code",
   "execution_count": 13,
   "metadata": {},
   "outputs": [],
   "source": [
    "def show(row):\n",
    "    model_summary = summarize(row['text'])\n",
    "    print('Text :\\n', row['text'], '\\n')\n",
    "    print('Summary: \\n', model_summary, '\\n')\n",
    "#     print('Headline: \\n', row['headline'])"
   ]
  },
  {
   "cell_type": "code",
   "execution_count": 14,
   "metadata": {},
   "outputs": [
    {
     "name": "stdout",
     "output_type": "stream",
     "text": [
      "Text :\n",
      "  As with the basic partner dance the leader steps back on his or her right foot while the follower steps back on his or her left.Continue holding hands as you step back. The leader lets go of the follower’s right hand and uses his or her left hand to guide the turn. The leader gently pulls the follower forward on his or her right foot. The follower plants his or her right foot which he or she will turn on.Almost simultaneously the leader also lifts the follower’s right hand and arm to begin the turn. As the leader turns the follower he or she steps forward and to the side on his or her left foot and completes the turn bringing them to neutral.The count is 1 when they both step back 2 when the follower steps forward and the turn begins 3 when the leader steps forward and to the side to complete the turn and 4 when they come back together to neutral. \n",
      "\n",
      "Summary: \n",
      " Step back on your right foot.Step forward on his or her left foot.Let the leader turn the follower. \n",
      "\n"
     ]
    }
   ],
   "source": [
    "show(df_test.iloc[2,:])"
   ]
  },
  {
   "cell_type": "code",
   "execution_count": 15,
   "metadata": {},
   "outputs": [
    {
     "name": "stdout",
     "output_type": "stream",
     "text": [
      "Text :\n",
      "  The amount will serve about 3 to 4 people.; Bring it to a boil and add the salt. Use a wooden spoon to stir it into the water. The polenta and water should form a paste after about two minutes. Keep stirring it with a spoon for about ten minutes. The polenta is ready when the texture becomes creamy.Don't overcook the polenta or it may become too mushy.Taste the polenta and decide how creamy or grainy you like it. Remove it from heat when it reaches the texture you like best.Serve the polenta with vegetables chili meat or fish - the possibilities are endless. \n",
      "\n",
      "Summary: \n",
      " Prepare the polenta.Put the water in a saucepan.Cook the polenta for about two minutes.Remove it from the heat. \n",
      "\n"
     ]
    }
   ],
   "source": [
    "show(df_test.loc[156552])"
   ]
  },
  {
   "cell_type": "code",
   "execution_count": 16,
   "metadata": {},
   "outputs": [
    {
     "name": "stdout",
     "output_type": "stream",
     "text": [
      "Text :\n",
      "  A right triangle is a triangle that has one right (90 degree) angle. The side of the triangle opposite the right angle is always the longest side and it is called the hypotenuse. Right triangles show up frequently on math tests and fortunately there is a very handy formula for finding the length of unknown sides! The Pythagorean Theorem tells us that for any right triangle with sides of length a and b and hypotenuse of length c a2 + b2 = c2. Remember that the longest side of the triangle is called the hypotenuse. It will be opposite the right angle and must be labeled c. Label the two shorter sides a and b. It doesn't really matter which is which the math will turn out the same!  Remember that a2 + b2 = c2. Substitute the side lengths in for the corresponding letters in the equation.If for example you know that side a = 3 and side b = 4 then plug those values into the formula as follows: 32 + 42 = c2.If you know the length of side a = 6 and the hypotenuse c = 10 then you should set the equation up like so: 62 + b2 = 102. You will first need to square the known side lengths which means multiplying each value by itself (for example 32 = 3 * 3 = 9). If you are looking for the hypotenuse simply add the two values together and find the square root of this number to find the length. If it is a side length you are missing you must do a bit of easy subtraction and then take the square root to get your side length.In the first example square the values in 32 + 42 = c2 and find that 25= c2. Then calculate the square root of 25 to find that c = 5.In the second example square the values in 62 + b2 = 102 to find that 36 + b2 = 100. Subtract 36 from each side to find that b2 = 64 then take the square root of 64 to find that b = 8. Recall that the perimeter P = a + b + c. Now that you know the lengths of sides a b and c you simply need to add the lengths together to find the perimeter.In our first exampleP = 3 + 4 + 5 or 12.In our second example P = 6 + 8 + 10 or 24. \n",
      "\n",
      "Summary: \n",
      " Find the length of a right triangle.Find the length of the hypotenuse.Add the sides together to find the perimeter. \n",
      "\n"
     ]
    }
   ],
   "source": [
    "show(df_test.loc[83568])"
   ]
  },
  {
   "cell_type": "code",
   "execution_count": null,
   "metadata": {},
   "outputs": [],
   "source": []
  },
  {
   "cell_type": "code",
   "execution_count": null,
   "metadata": {},
   "outputs": [],
   "source": []
  },
  {
   "cell_type": "code",
   "execution_count": null,
   "metadata": {},
   "outputs": [],
   "source": []
  }
 ],
 "metadata": {
  "kernelspec": {
   "display_name": "Python 3",
   "language": "python",
   "name": "python3"
  },
  "language_info": {
   "codemirror_mode": {
    "name": "ipython",
    "version": 3
   },
   "file_extension": ".py",
   "mimetype": "text/x-python",
   "name": "python",
   "nbconvert_exporter": "python",
   "pygments_lexer": "ipython3",
   "version": "3.7.7"
  }
 },
 "nbformat": 4,
 "nbformat_minor": 1
}